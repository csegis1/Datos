{
  "nbformat": 4,
  "nbformat_minor": 0,
  "metadata": {
    "colab": {
      "name": "Introduction.ipynb",
      "provenance": [],
      "collapsed_sections": [],
      "include_colab_link": true
    },
    "kernelspec": {
      "name": "python3",
      "display_name": "Python 3"
    },
    "language_info": {
      "name": "python"
    }
  },
  "cells": [
    {
      "cell_type": "markdown",
      "metadata": {
        "id": "view-in-github",
        "colab_type": "text"
      },
      "source": [
        "<a href=\"https://colab.research.google.com/github/csegis1/Datos/blob/main/Introduction.ipynb\" target=\"_parent\"><img src=\"https://colab.research.google.com/assets/colab-badge.svg\" alt=\"Open In Colab\"/></a>"
      ]
    },
    {
      "cell_type": "markdown",
      "metadata": {
        "id": "c142xlsJHIR1"
      },
      "source": [
        "# Data analysis (Brief example)\n",
        "All individuals survived unless noted otherwise.\n",
        "Entries on the spreadsheet are color-coded.\n",
        "\n",
        "• Unprovoked Incidents = Tan\n",
        "\n",
        "• Provoked Incidents = Orange\n",
        "\n",
        "• Incidents Involving Watercrafts = Green\n",
        "\n",
        "• Air / Sea Disasters = Yellow\n",
        "\n",
        "• Questionable Incidents = Blue\n",
        "\n",
        "Unprovoked vs. Provoked - GSAF defines a provoked incident as one in which the shark was speared, hooked, captured or in which a human drew \"first blood\". Although such incidents are of little interest to shark behaviorists, when the species of shark involved is known and pre-op photos of the wounds are available, the bite patterns are of value in determining species of shark involved in other cases when the species could not identified by the patient or witnesses. We know that a live human is rarely perceived as prey by a shark. Many incidents are motivated by curiosity, others may result when a shark perceives a human as a threat or competitor for a food source, and could be classed as \"provoked\" when examined from the shark's perspective.\n",
        "\n",
        "Incidents involving watercraft – Incidents in which a boat was bitten or rammed by a shark are in green. However, in cases in which the shark was hooked, netted or gaffed, the entry is orange because they are classed as provoked incidents.\n",
        "\n",
        "Questionable incidents - Incidents in which there are insufficient data to determine if the injury was caused by a shark or the person drowned and the body was later scavenged by sharks. In a few cases, despite media reports to the contrary, evidence indicated there was no shark involvement whatsoever. Such incidents are in blue.\n",
        "\n",
        "![](https://www.sharkattackfile.net/images/sharks/SHKGRF-14.jpg)\n",
        "\n",
        "https://www.sharkattackfile.net/incidentlog.htm"
      ]
    },
    {
      "cell_type": "markdown",
      "metadata": {
        "id": "mZwK57aiI569"
      },
      "source": [
        "**Pandas**\n",
        "\n",
        "En Computación y Ciencia de datos, pandas es una biblioteca de software escrita como extensión de Numpy para manipulación y análisis de datos para el lenguaje de programación Python. En particular, ofrece estructuras de datos y operaciones para manipular tablas numéricas y series temporales.\n",
        "\n",
        "Las características de la biblioteca son:\n",
        "\n",
        "* El tipo de datos son DataFrame para manipulación de datos con indexación integrada. Tiene herramientas para leer y escribir datos entre estructuras de dato en memoria y formatos de archivos variados\n",
        "* Permite la alineación de dato y manejo integrado de datos fallantes, la reestructuración y segmentación de conjuntos de datos, la segmentación vertical basada en etiquetas, indexación elegante, y segmentación horizontal de grandes conjuntos de datos, la inserción y eliminación de columnas en estructuras de datos.\n",
        "* Puedes realizar cadenas de operaciones, dividir, aplicar y combinar sobre conjuntos de datos, la mezcla y unión de datos.\n",
        "\n",
        "Fuente: https://www.master-data-scientist.com/pandas-herramienta-data-science/\n"
      ]
    },
    {
      "cell_type": "markdown",
      "metadata": {
        "id": "8r22gRjgJ9n0"
      },
      "source": [
        "## Cheat sheet\n",
        "![](https://intellipaat.com/mediaFiles/2018/12/Python-Pandas-Cheat-Sheet.png)"
      ]
    },
    {
      "cell_type": "code",
      "metadata": {
        "id": "2Min8ZffI4wf",
        "colab": {
          "base_uri": "https://localhost:8080/"
        },
        "outputId": "c2d097a0-0ff2-4707-9814-48942731c875"
      },
      "source": [
        "#se usa la palabra import para mandar a traer bibliotecas\n",
        "import pandas\n",
        "\n",
        "df=pandas.read_csv('GSAF5.csv',encoding='cp1252') #leemos el documento CSV y lo guardamos en un data frame\n",
        "df.columns #nos ayuda a mostrar columnas"
      ],
      "execution_count": 27,
      "outputs": [
        {
          "output_type": "execute_result",
          "data": {
            "text/plain": [
              "Index(['Case Number', 'Date', 'Year', 'Type', 'Country', 'Area', 'Location',\n",
              "       'Activity', 'Name', 'Sex ', 'Age', 'Injury', 'Fatal (Y/N)', 'Time',\n",
              "       'Species ', 'Investigator or Source', 'pdf', 'href formula', 'href',\n",
              "       'Case Number.1', 'Case Number.2', 'original order', 'Unnamed: 22',\n",
              "       'Unnamed: 23'],\n",
              "      dtype='object')"
            ]
          },
          "metadata": {},
          "execution_count": 27
        }
      ]
    },
    {
      "cell_type": "code",
      "metadata": {
        "colab": {
          "base_uri": "https://localhost:8080/",
          "height": 530
        },
        "id": "tm-FD7CHLoo6",
        "outputId": "31274a55-d5d4-42d6-dfd5-aa209469f886"
      },
      "source": [
        "#el comando head, ejecutado despues del df muestra un resumen de los datos\n",
        "df.head()"
      ],
      "execution_count": 28,
      "outputs": [
        {
          "output_type": "execute_result",
          "data": {
            "text/html": [
              "<div>\n",
              "<style scoped>\n",
              "    .dataframe tbody tr th:only-of-type {\n",
              "        vertical-align: middle;\n",
              "    }\n",
              "\n",
              "    .dataframe tbody tr th {\n",
              "        vertical-align: top;\n",
              "    }\n",
              "\n",
              "    .dataframe thead th {\n",
              "        text-align: right;\n",
              "    }\n",
              "</style>\n",
              "<table border=\"1\" class=\"dataframe\">\n",
              "  <thead>\n",
              "    <tr style=\"text-align: right;\">\n",
              "      <th></th>\n",
              "      <th>Case Number</th>\n",
              "      <th>Date</th>\n",
              "      <th>Year</th>\n",
              "      <th>Type</th>\n",
              "      <th>Country</th>\n",
              "      <th>Area</th>\n",
              "      <th>Location</th>\n",
              "      <th>Activity</th>\n",
              "      <th>Name</th>\n",
              "      <th>Sex</th>\n",
              "      <th>Age</th>\n",
              "      <th>Injury</th>\n",
              "      <th>Fatal (Y/N)</th>\n",
              "      <th>Time</th>\n",
              "      <th>Species</th>\n",
              "      <th>Investigator or Source</th>\n",
              "      <th>pdf</th>\n",
              "      <th>href formula</th>\n",
              "      <th>href</th>\n",
              "      <th>Case Number.1</th>\n",
              "      <th>Case Number.2</th>\n",
              "      <th>original order</th>\n",
              "      <th>Unnamed: 22</th>\n",
              "      <th>Unnamed: 23</th>\n",
              "    </tr>\n",
              "  </thead>\n",
              "  <tbody>\n",
              "    <tr>\n",
              "      <th>0</th>\n",
              "      <td>2016.09.18.c</td>\n",
              "      <td>18-Sep-16</td>\n",
              "      <td>2016</td>\n",
              "      <td>Unprovoked</td>\n",
              "      <td>USA</td>\n",
              "      <td>Florida</td>\n",
              "      <td>New Smyrna Beach, Volusia County</td>\n",
              "      <td>Surfing</td>\n",
              "      <td>male</td>\n",
              "      <td>M</td>\n",
              "      <td>16</td>\n",
              "      <td>Minor injury to thigh</td>\n",
              "      <td>N</td>\n",
              "      <td>13h00</td>\n",
              "      <td>NaN</td>\n",
              "      <td>Orlando Sentinel, 9/19/2016</td>\n",
              "      <td>2016.09.18.c-NSB.pdf</td>\n",
              "      <td>http://sharkattackfile.net/spreadsheets/pdf_di...</td>\n",
              "      <td>http://sharkattackfile.net/spreadsheets/pdf_di...</td>\n",
              "      <td>2016.09.18.c</td>\n",
              "      <td>2016.09.18.c</td>\n",
              "      <td>5993</td>\n",
              "      <td>NaN</td>\n",
              "      <td>NaN</td>\n",
              "    </tr>\n",
              "    <tr>\n",
              "      <th>1</th>\n",
              "      <td>2016.09.18.b</td>\n",
              "      <td>18-Sep-16</td>\n",
              "      <td>2016</td>\n",
              "      <td>Unprovoked</td>\n",
              "      <td>USA</td>\n",
              "      <td>Florida</td>\n",
              "      <td>New Smyrna Beach, Volusia County</td>\n",
              "      <td>Surfing</td>\n",
              "      <td>Chucky Luciano</td>\n",
              "      <td>M</td>\n",
              "      <td>36</td>\n",
              "      <td>Lacerations to hands</td>\n",
              "      <td>N</td>\n",
              "      <td>11h00</td>\n",
              "      <td>NaN</td>\n",
              "      <td>Orlando Sentinel, 9/19/2016</td>\n",
              "      <td>2016.09.18.b-Luciano.pdf</td>\n",
              "      <td>http://sharkattackfile.net/spreadsheets/pdf_di...</td>\n",
              "      <td>http://sharkattackfile.net/spreadsheets/pdf_di...</td>\n",
              "      <td>2016.09.18.b</td>\n",
              "      <td>2016.09.18.b</td>\n",
              "      <td>5992</td>\n",
              "      <td>NaN</td>\n",
              "      <td>NaN</td>\n",
              "    </tr>\n",
              "    <tr>\n",
              "      <th>2</th>\n",
              "      <td>2016.09.18.a</td>\n",
              "      <td>18-Sep-16</td>\n",
              "      <td>2016</td>\n",
              "      <td>Unprovoked</td>\n",
              "      <td>USA</td>\n",
              "      <td>Florida</td>\n",
              "      <td>New Smyrna Beach, Volusia County</td>\n",
              "      <td>Surfing</td>\n",
              "      <td>male</td>\n",
              "      <td>M</td>\n",
              "      <td>43</td>\n",
              "      <td>Lacerations to lower leg</td>\n",
              "      <td>N</td>\n",
              "      <td>10h43</td>\n",
              "      <td>NaN</td>\n",
              "      <td>Orlando Sentinel, 9/19/2016</td>\n",
              "      <td>2016.09.18.a-NSB.pdf</td>\n",
              "      <td>http://sharkattackfile.net/spreadsheets/pdf_di...</td>\n",
              "      <td>http://sharkattackfile.net/spreadsheets/pdf_di...</td>\n",
              "      <td>2016.09.18.a</td>\n",
              "      <td>2016.09.18.a</td>\n",
              "      <td>5991</td>\n",
              "      <td>NaN</td>\n",
              "      <td>NaN</td>\n",
              "    </tr>\n",
              "    <tr>\n",
              "      <th>3</th>\n",
              "      <td>2016.09.17</td>\n",
              "      <td>17-Sep-16</td>\n",
              "      <td>2016</td>\n",
              "      <td>Unprovoked</td>\n",
              "      <td>AUSTRALIA</td>\n",
              "      <td>Victoria</td>\n",
              "      <td>Thirteenth Beach</td>\n",
              "      <td>Surfing</td>\n",
              "      <td>Rory Angiolella</td>\n",
              "      <td>M</td>\n",
              "      <td>NaN</td>\n",
              "      <td>Struck by fin on chest &amp; leg</td>\n",
              "      <td>N</td>\n",
              "      <td>NaN</td>\n",
              "      <td>NaN</td>\n",
              "      <td>The Age, 9/18/2016</td>\n",
              "      <td>2016.09.17-Angiolella.pdf</td>\n",
              "      <td>http://sharkattackfile.net/spreadsheets/pdf_di...</td>\n",
              "      <td>http://sharkattackfile.net/spreadsheets/pdf_di...</td>\n",
              "      <td>2016.09.17</td>\n",
              "      <td>2016.09.17</td>\n",
              "      <td>5990</td>\n",
              "      <td>NaN</td>\n",
              "      <td>NaN</td>\n",
              "    </tr>\n",
              "    <tr>\n",
              "      <th>4</th>\n",
              "      <td>2016.09.15</td>\n",
              "      <td>16-Sep-16</td>\n",
              "      <td>2016</td>\n",
              "      <td>Unprovoked</td>\n",
              "      <td>AUSTRALIA</td>\n",
              "      <td>Victoria</td>\n",
              "      <td>Bells Beach</td>\n",
              "      <td>Surfing</td>\n",
              "      <td>male</td>\n",
              "      <td>M</td>\n",
              "      <td>NaN</td>\n",
              "      <td>No injury: Knocked off board by shark</td>\n",
              "      <td>N</td>\n",
              "      <td>NaN</td>\n",
              "      <td>2 m shark</td>\n",
              "      <td>The Age, 9/16/2016</td>\n",
              "      <td>2016.09.16-BellsBeach.pdf</td>\n",
              "      <td>http://sharkattackfile.net/spreadsheets/pdf_di...</td>\n",
              "      <td>http://sharkattackfile.net/spreadsheets/pdf_di...</td>\n",
              "      <td>2016.09.16</td>\n",
              "      <td>2016.09.15</td>\n",
              "      <td>5989</td>\n",
              "      <td>NaN</td>\n",
              "      <td>NaN</td>\n",
              "    </tr>\n",
              "  </tbody>\n",
              "</table>\n",
              "</div>"
            ],
            "text/plain": [
              "    Case Number       Date  Year  ... original order Unnamed: 22 Unnamed: 23\n",
              "0  2016.09.18.c  18-Sep-16  2016  ...           5993         NaN         NaN\n",
              "1  2016.09.18.b  18-Sep-16  2016  ...           5992         NaN         NaN\n",
              "2  2016.09.18.a  18-Sep-16  2016  ...           5991         NaN         NaN\n",
              "3    2016.09.17  17-Sep-16  2016  ...           5990         NaN         NaN\n",
              "4    2016.09.15  16-Sep-16  2016  ...           5989         NaN         NaN\n",
              "\n",
              "[5 rows x 24 columns]"
            ]
          },
          "metadata": {},
          "execution_count": 28
        }
      ]
    },
    {
      "cell_type": "code",
      "metadata": {
        "colab": {
          "base_uri": "https://localhost:8080/"
        },
        "id": "8p8454qILy8t",
        "outputId": "71913ef8-26b0-472c-a339-175eb0f57ba5"
      },
      "source": [
        "#Se crea una nueva lista de atributos, con la finalidad de descartar a los no utiles\n",
        "nA=['Case Number', 'Date', 'Year', 'Type', 'Country', 'Area', 'Location',\n",
        "       'Activity', 'Name', 'Sex ', 'Age', 'Injury', 'Fatal (Y/N)', 'Time',\n",
        "       'Species ', 'Investigator or Source']\n",
        "print(\"El número de atributos es: \",len(nA))\n",
        "print(\"Los atributos son: \")\n",
        "print(nA)"
      ],
      "execution_count": null,
      "outputs": [
        {
          "output_type": "stream",
          "name": "stdout",
          "text": [
            "El número de atributos es:  16\n",
            "Los atributos son: \n",
            "['Case Number', 'Date', 'Year', 'Type', 'Country', 'Area', 'Location', 'Activity', 'Name', 'Sex ', 'Age', 'Injury', 'Fatal (Y/N)', 'Time', 'Species ', 'Investigator or Source']\n"
          ]
        }
      ]
    },
    {
      "cell_type": "markdown",
      "metadata": {
        "id": "ekpJctRvMJzp"
      },
      "source": [
        "# Código necesario\n",
        "Para no ejecutar el código anterior celda por celda, este apartado ayuda a ejecturar todas esas lineas."
      ]
    },
    {
      "cell_type": "code",
      "metadata": {
        "colab": {
          "base_uri": "https://localhost:8080/",
          "height": 306
        },
        "id": "omPtqx3yMYif",
        "outputId": "f10535e7-4497-4078-b86c-3567ef4823ee"
      },
      "source": [
        "import pandas #pandas es una biblioteca para anàlisis numerico\n",
        "#df -> data frame\n",
        "df=pandas.read_csv('GSAF5.csv',encoding='cp1252')\n",
        "df.columns\n",
        "#Redimencionar el data frame\n",
        "nA=['Case Number', 'Date', 'Year', 'Type', 'Country', 'Area', 'Location',\n",
        "       'Activity', 'Name', 'Sex ', 'Age', 'Injury', 'Fatal (Y/N)', 'Time',\n",
        "       'Species ', 'Investigator or Source']\n",
        "dfN=df[nA] #data-frame New\n",
        "dfN.head(5)\n"
      ],
      "execution_count": null,
      "outputs": [
        {
          "output_type": "execute_result",
          "data": {
            "text/html": [
              "<div>\n",
              "<style scoped>\n",
              "    .dataframe tbody tr th:only-of-type {\n",
              "        vertical-align: middle;\n",
              "    }\n",
              "\n",
              "    .dataframe tbody tr th {\n",
              "        vertical-align: top;\n",
              "    }\n",
              "\n",
              "    .dataframe thead th {\n",
              "        text-align: right;\n",
              "    }\n",
              "</style>\n",
              "<table border=\"1\" class=\"dataframe\">\n",
              "  <thead>\n",
              "    <tr style=\"text-align: right;\">\n",
              "      <th></th>\n",
              "      <th>Case Number</th>\n",
              "      <th>Date</th>\n",
              "      <th>Year</th>\n",
              "      <th>Type</th>\n",
              "      <th>Country</th>\n",
              "      <th>Area</th>\n",
              "      <th>Location</th>\n",
              "      <th>Activity</th>\n",
              "      <th>Name</th>\n",
              "      <th>Sex</th>\n",
              "      <th>Age</th>\n",
              "      <th>Injury</th>\n",
              "      <th>Fatal (Y/N)</th>\n",
              "      <th>Time</th>\n",
              "      <th>Species</th>\n",
              "      <th>Investigator or Source</th>\n",
              "    </tr>\n",
              "  </thead>\n",
              "  <tbody>\n",
              "    <tr>\n",
              "      <th>0</th>\n",
              "      <td>2016.09.18.c</td>\n",
              "      <td>18-Sep-16</td>\n",
              "      <td>2016</td>\n",
              "      <td>Unprovoked</td>\n",
              "      <td>USA</td>\n",
              "      <td>Florida</td>\n",
              "      <td>New Smyrna Beach, Volusia County</td>\n",
              "      <td>Surfing</td>\n",
              "      <td>male</td>\n",
              "      <td>M</td>\n",
              "      <td>16</td>\n",
              "      <td>Minor injury to thigh</td>\n",
              "      <td>N</td>\n",
              "      <td>13h00</td>\n",
              "      <td>NaN</td>\n",
              "      <td>Orlando Sentinel, 9/19/2016</td>\n",
              "    </tr>\n",
              "    <tr>\n",
              "      <th>1</th>\n",
              "      <td>2016.09.18.b</td>\n",
              "      <td>18-Sep-16</td>\n",
              "      <td>2016</td>\n",
              "      <td>Unprovoked</td>\n",
              "      <td>USA</td>\n",
              "      <td>Florida</td>\n",
              "      <td>New Smyrna Beach, Volusia County</td>\n",
              "      <td>Surfing</td>\n",
              "      <td>Chucky Luciano</td>\n",
              "      <td>M</td>\n",
              "      <td>36</td>\n",
              "      <td>Lacerations to hands</td>\n",
              "      <td>N</td>\n",
              "      <td>11h00</td>\n",
              "      <td>NaN</td>\n",
              "      <td>Orlando Sentinel, 9/19/2016</td>\n",
              "    </tr>\n",
              "    <tr>\n",
              "      <th>2</th>\n",
              "      <td>2016.09.18.a</td>\n",
              "      <td>18-Sep-16</td>\n",
              "      <td>2016</td>\n",
              "      <td>Unprovoked</td>\n",
              "      <td>USA</td>\n",
              "      <td>Florida</td>\n",
              "      <td>New Smyrna Beach, Volusia County</td>\n",
              "      <td>Surfing</td>\n",
              "      <td>male</td>\n",
              "      <td>M</td>\n",
              "      <td>43</td>\n",
              "      <td>Lacerations to lower leg</td>\n",
              "      <td>N</td>\n",
              "      <td>10h43</td>\n",
              "      <td>NaN</td>\n",
              "      <td>Orlando Sentinel, 9/19/2016</td>\n",
              "    </tr>\n",
              "    <tr>\n",
              "      <th>3</th>\n",
              "      <td>2016.09.17</td>\n",
              "      <td>17-Sep-16</td>\n",
              "      <td>2016</td>\n",
              "      <td>Unprovoked</td>\n",
              "      <td>AUSTRALIA</td>\n",
              "      <td>Victoria</td>\n",
              "      <td>Thirteenth Beach</td>\n",
              "      <td>Surfing</td>\n",
              "      <td>Rory Angiolella</td>\n",
              "      <td>M</td>\n",
              "      <td>NaN</td>\n",
              "      <td>Struck by fin on chest &amp; leg</td>\n",
              "      <td>N</td>\n",
              "      <td>NaN</td>\n",
              "      <td>NaN</td>\n",
              "      <td>The Age, 9/18/2016</td>\n",
              "    </tr>\n",
              "    <tr>\n",
              "      <th>4</th>\n",
              "      <td>2016.09.15</td>\n",
              "      <td>16-Sep-16</td>\n",
              "      <td>2016</td>\n",
              "      <td>Unprovoked</td>\n",
              "      <td>AUSTRALIA</td>\n",
              "      <td>Victoria</td>\n",
              "      <td>Bells Beach</td>\n",
              "      <td>Surfing</td>\n",
              "      <td>male</td>\n",
              "      <td>M</td>\n",
              "      <td>NaN</td>\n",
              "      <td>No injury: Knocked off board by shark</td>\n",
              "      <td>N</td>\n",
              "      <td>NaN</td>\n",
              "      <td>2 m shark</td>\n",
              "      <td>The Age, 9/16/2016</td>\n",
              "    </tr>\n",
              "  </tbody>\n",
              "</table>\n",
              "</div>"
            ],
            "text/plain": [
              "    Case Number       Date  Year  ...   Time   Species        Investigator or Source\n",
              "0  2016.09.18.c  18-Sep-16  2016  ...  13h00        NaN  Orlando Sentinel, 9/19/2016\n",
              "1  2016.09.18.b  18-Sep-16  2016  ...  11h00        NaN  Orlando Sentinel, 9/19/2016\n",
              "2  2016.09.18.a  18-Sep-16  2016  ...  10h43        NaN  Orlando Sentinel, 9/19/2016\n",
              "3    2016.09.17  17-Sep-16  2016  ...    NaN        NaN           The Age, 9/18/2016\n",
              "4    2016.09.15  16-Sep-16  2016  ...    NaN  2 m shark           The Age, 9/16/2016\n",
              "\n",
              "[5 rows x 16 columns]"
            ]
          },
          "metadata": {},
          "execution_count": 5
        }
      ]
    },
    {
      "cell_type": "code",
      "metadata": {
        "colab": {
          "base_uri": "https://localhost:8080/"
        },
        "id": "8bocYa6JMnsg",
        "outputId": "5a7e1599-de2e-42ec-d55a-775aa37fd7f6"
      },
      "source": [
        "#el conmando info() proporciona informacion del dataframe\n",
        "dfN.info()"
      ],
      "execution_count": null,
      "outputs": [
        {
          "output_type": "stream",
          "name": "stdout",
          "text": [
            "<class 'pandas.core.frame.DataFrame'>\n",
            "RangeIndex: 5992 entries, 0 to 5991\n",
            "Data columns (total 16 columns):\n",
            " #   Column                  Non-Null Count  Dtype \n",
            "---  ------                  --------------  ----- \n",
            " 0   Case Number             5992 non-null   object\n",
            " 1   Date                    5992 non-null   object\n",
            " 2   Year                    5992 non-null   int64 \n",
            " 3   Type                    5992 non-null   object\n",
            " 4   Country                 5949 non-null   object\n",
            " 5   Area                    5590 non-null   object\n",
            " 6   Location                5496 non-null   object\n",
            " 7   Activity                5465 non-null   object\n",
            " 8   Name                    5792 non-null   object\n",
            " 9   Sex                     5425 non-null   object\n",
            " 10  Age                     3311 non-null   object\n",
            " 11  Injury                  5965 non-null   object\n",
            " 12  Fatal (Y/N)             5973 non-null   object\n",
            " 13  Time                    2779 non-null   object\n",
            " 14  Species                 3058 non-null   object\n",
            " 15  Investigator or Source  5977 non-null   object\n",
            "dtypes: int64(1), object(15)\n",
            "memory usage: 749.1+ KB\n"
          ]
        }
      ]
    },
    {
      "cell_type": "code",
      "metadata": {
        "colab": {
          "base_uri": "https://localhost:8080/"
        },
        "id": "3v0jIoZ_NDbv",
        "outputId": "baa3727c-3238-4631-eeec-c559a68cceb1"
      },
      "source": [
        "#un comando útil para contar registros es len()\n",
        "print(\"El numero de registros es: \", len(dfN['Sex ']))"
      ],
      "execution_count": null,
      "outputs": [
        {
          "output_type": "stream",
          "name": "stdout",
          "text": [
            "El numero de registros es:  5992\n"
          ]
        }
      ]
    },
    {
      "cell_type": "code",
      "metadata": {
        "colab": {
          "base_uri": "https://localhost:8080/"
        },
        "id": "jEHs1_CBNZhS",
        "outputId": "af44783b-5ec2-428f-8ccf-23bd8c774aa0"
      },
      "source": [
        "#EL comando isna() ayuda a identificar los valores nulos o Nan\n",
        "#con la ayuda de sum() muestra un conteo total por atributo\n",
        "dfN.isna().sum()  "
      ],
      "execution_count": null,
      "outputs": [
        {
          "output_type": "execute_result",
          "data": {
            "text/plain": [
              "Case Number                  0\n",
              "Date                         0\n",
              "Year                         0\n",
              "Type                         0\n",
              "Country                     43\n",
              "Area                       402\n",
              "Location                   496\n",
              "Activity                   527\n",
              "Name                       200\n",
              "Sex                        567\n",
              "Age                       2681\n",
              "Injury                      27\n",
              "Fatal (Y/N)                 19\n",
              "Time                      3213\n",
              "Species                   2934\n",
              "Investigator or Source      15\n",
              "dtype: int64"
            ]
          },
          "metadata": {},
          "execution_count": 9
        }
      ]
    },
    {
      "cell_type": "markdown",
      "metadata": {
        "id": "a5w7DEKCO0vN"
      },
      "source": [
        "**pandas.DataFrame.duplicated**\n",
        "\n",
        "*DataFrame.duplicated(subset=None, keep='first')*\n",
        "\n",
        "Return boolean Series denoting duplicate rows.\n",
        "\n",
        "Considering certain columns is optional.\n",
        "\n",
        "Parameters\n",
        "subsetcolumn label or sequence of labels, optional\n",
        "Only consider certain columns for identifying duplicates, by default use all of the columns.\n",
        "\n",
        "keep{‘first’, ‘last’, False}, default ‘first’\n",
        "Determines which duplicates (if any) to mark.\n",
        "\n",
        "first : Mark duplicates as True except for the first occurrence.\n",
        "\n",
        "last : Mark duplicates as True except for the last occurrence.\n",
        "\n",
        "False : Mark all duplicates as True.\n",
        "\n",
        "https://pandas.pydata.org/docs/reference/api/pandas.DataFrame.duplicated.html"
      ]
    },
    {
      "cell_type": "code",
      "metadata": {
        "colab": {
          "base_uri": "https://localhost:8080/"
        },
        "id": "oLJb8_v3OOdA",
        "outputId": "8df1dc2d-7fb7-4bb0-8694-7bb461a2f8f8"
      },
      "source": [
        "#duplicated() encuentra valores duplicados de un atributo\n",
        "vr=dfN['Case Number'].duplicated().sum()\n",
        "print(\"El numero de datos duplicados en Case Number es: \",vr)"
      ],
      "execution_count": null,
      "outputs": [
        {
          "output_type": "stream",
          "name": "stdout",
          "text": [
            "El numero de datos duplicados en Case Number es:  16\n"
          ]
        }
      ]
    },
    {
      "cell_type": "code",
      "metadata": {
        "colab": {
          "base_uri": "https://localhost:8080/"
        },
        "id": "ViQtabEQPG5U",
        "outputId": "b1ccb331-9aa9-4a91-8064-21fc54710ec9"
      },
      "source": [
        "#Encontrar los duplicados y con ayuda de tolist convertimos una serie en lista\n",
        "duplicados=dfN[dfN['Case Number'].duplicated(keep=False)]['Case Number'].tolist()\n",
        "print(duplicados)\n",
        "print(\"Total: \",len(duplicados))"
      ],
      "execution_count": null,
      "outputs": [
        {
          "output_type": "stream",
          "name": "stdout",
          "text": [
            "['2014.08.02', '2014.08.02', '2013.10.05', '2013.10.05', '2012.09.02.b', '2012.09.02.b', '2009.12.18', '2009.12.18', '2006.09.02', '2006.09.02', '2005.04.06', '2005.04.06', '1990.05.10', '1990.05.10', '1983.06.15', '1983.06.15', '1980.07.00', '1980.07.00', '1966.12.26', '1966.12.26', '1962.06.11.b', '1962.06.11.b', '1923.00.00.a', '1923.00.00.a', '1920.00.00.b', '1920.00.00.b', '1915.07.06.a.R', '1915.07.06.a.R', '1913.08.27.R', '1913.08.27.R', '1907.10.16.R', '1907.10.16.R']\n",
            "Total:  32\n"
          ]
        }
      ]
    },
    {
      "cell_type": "code",
      "metadata": {
        "colab": {
          "base_uri": "https://localhost:8080/"
        },
        "id": "CiN7mByFPXO4",
        "outputId": "6905f038-572b-4d59-ed3e-78a2eeabd5c3"
      },
      "source": [
        "# dfnF data frame nueva Filtrada\n",
        "# con ayuda de drop_duplicates se elimnan los renglones repetidos\n",
        "dfnF=dfN.drop_duplicates(subset='Case Number')\n",
        "dfnF.info()"
      ],
      "execution_count": null,
      "outputs": [
        {
          "output_type": "stream",
          "name": "stdout",
          "text": [
            "<class 'pandas.core.frame.DataFrame'>\n",
            "Int64Index: 5976 entries, 0 to 5991\n",
            "Data columns (total 16 columns):\n",
            " #   Column                  Non-Null Count  Dtype \n",
            "---  ------                  --------------  ----- \n",
            " 0   Case Number             5976 non-null   object\n",
            " 1   Date                    5976 non-null   object\n",
            " 2   Year                    5976 non-null   int64 \n",
            " 3   Type                    5976 non-null   object\n",
            " 4   Country                 5933 non-null   object\n",
            " 5   Area                    5575 non-null   object\n",
            " 6   Location                5480 non-null   object\n",
            " 7   Activity                5451 non-null   object\n",
            " 8   Name                    5777 non-null   object\n",
            " 9   Sex                     5410 non-null   object\n",
            " 10  Age                     3305 non-null   object\n",
            " 11  Injury                  5949 non-null   object\n",
            " 12  Fatal (Y/N)             5957 non-null   object\n",
            " 13  Time                    2775 non-null   object\n",
            " 14  Species                 3049 non-null   object\n",
            " 15  Investigator or Source  5961 non-null   object\n",
            "dtypes: int64(1), object(15)\n",
            "memory usage: 793.7+ KB\n"
          ]
        }
      ]
    },
    {
      "cell_type": "code",
      "metadata": {
        "colab": {
          "base_uri": "https://localhost:8080/",
          "height": 214
        },
        "id": "6W6z6NqKPjQA",
        "outputId": "437b9197-3047-48cd-8c00-36194bdbe3a6"
      },
      "source": [
        "#Los datos nan pueden provocar problemas, por lo que se sugiere quitarlos\n",
        "#con el comando dropna() se realiza\n",
        "#data frame sin NaN\n",
        "dfC=dfnF.dropna()\n",
        "dfC\n"
      ],
      "execution_count": null,
      "outputs": [
        {
          "output_type": "error",
          "ename": "NameError",
          "evalue": "ignored",
          "traceback": [
            "\u001b[0;31m---------------------------------------------------------------------------\u001b[0m",
            "\u001b[0;31mNameError\u001b[0m                                 Traceback (most recent call last)",
            "\u001b[0;32m<ipython-input-1-79c9b7f32c84>\u001b[0m in \u001b[0;36m<module>\u001b[0;34m()\u001b[0m\n\u001b[1;32m      2\u001b[0m \u001b[0;31m#con el comando dropna() se realiza\u001b[0m\u001b[0;34m\u001b[0m\u001b[0;34m\u001b[0m\u001b[0;34m\u001b[0m\u001b[0m\n\u001b[1;32m      3\u001b[0m \u001b[0;31m#data frame sin NaN\u001b[0m\u001b[0;34m\u001b[0m\u001b[0;34m\u001b[0m\u001b[0;34m\u001b[0m\u001b[0m\n\u001b[0;32m----> 4\u001b[0;31m \u001b[0mdfC\u001b[0m\u001b[0;34m=\u001b[0m\u001b[0mdfnF\u001b[0m\u001b[0;34m.\u001b[0m\u001b[0mdropna\u001b[0m\u001b[0;34m(\u001b[0m\u001b[0;34m)\u001b[0m\u001b[0;34m\u001b[0m\u001b[0;34m\u001b[0m\u001b[0m\n\u001b[0m\u001b[1;32m      5\u001b[0m \u001b[0mdfC\u001b[0m\u001b[0;34m\u001b[0m\u001b[0;34m\u001b[0m\u001b[0m\n",
            "\u001b[0;31mNameError\u001b[0m: name 'dfnF' is not defined"
          ]
        }
      ]
    },
    {
      "cell_type": "code",
      "metadata": {
        "colab": {
          "base_uri": "https://localhost:8080/"
        },
        "id": "zy3asbpJP-oT",
        "outputId": "753d385f-60c9-43d1-cf4e-55bd4540240b"
      },
      "source": [
        "#para contar los valores usarmos el comando value_counts()\n",
        "dfC['Activity'].value_counts()"
      ],
      "execution_count": null,
      "outputs": [
        {
          "output_type": "execute_result",
          "data": {
            "text/plain": [
              "Surfing                                                     401\n",
              "Swimming                                                    197\n",
              "Spearfishing                                                100\n",
              "Wading                                                       49\n",
              "Fishing                                                      41\n",
              "                                                           ... \n",
              "Playing / standing                                            1\n",
              "Swimming on sandbar adjacent to channel                       1\n",
              "Swimming underwater from crayfish cage to a fishing bait      1\n",
              "Surfing or body surfing                                       1\n",
              "Swimming (using a float)                                      1\n",
              "Name: Activity, Length: 336, dtype: int64"
            ]
          },
          "metadata": {},
          "execution_count": 16
        }
      ]
    },
    {
      "cell_type": "code",
      "metadata": {
        "colab": {
          "base_uri": "https://localhost:8080/"
        },
        "id": "E-nZeOp_QGdP",
        "outputId": "c1b47927-408e-413c-e048-87ff910e6795"
      },
      "source": [
        "dfC['Country'].value_counts()"
      ],
      "execution_count": null,
      "outputs": [
        {
          "output_type": "execute_result",
          "data": {
            "text/plain": [
              "USA                               685\n",
              "AUSTRALIA                         294\n",
              "SOUTH AFRICA                      216\n",
              "BAHAMAS                            25\n",
              "NEW ZEALAND                        20\n",
              "REUNION                            15\n",
              "BRAZIL                             14\n",
              "MEXICO                             13\n",
              "PAPUA NEW GUINEA                   12\n",
              "NEW CALEDONIA                      10\n",
              "EGYPT                               9\n",
              "ITALY                               7\n",
              "FIJI                                7\n",
              "MOZAMBIQUE                          7\n",
              "FRENCH POLYNESIA                    6\n",
              "IRAQ                                5\n",
              "SPAIN                               4\n",
              "CROATIA                             3\n",
              "TAIWAN                              3\n",
              "TONGA                               3\n",
              "VIETNAM                             3\n",
              "JAPAN                               3\n",
              "MARSHALL ISLANDS                    2\n",
              "BERMUDA                             2\n",
              "CUBA                                2\n",
              "JAMAICA                             2\n",
              "PALAU                               2\n",
              "HONG KONG                           2\n",
              "NEW BRITAIN                         2\n",
              "GREECE                              2\n",
              "PANAMA                              2\n",
              "VANUATU                             2\n",
              "ECUADOR                             2\n",
              "AMERICAN SAMOA                      2\n",
              "INDONESIA                           2\n",
              "VENEZUELA                           2\n",
              "SOLOMON ISLANDS                     1\n",
              "TURKS & CAICOS                      1\n",
              "INDIA                               1\n",
              "GRAND CAYMAN                        1\n",
              "ST. MAARTIN                         1\n",
              "ENGLAND                             1\n",
              "FEDERATED STATES OF MICRONESIA      1\n",
              "PACIFIC OCEAN                       1\n",
              "SEYCHELLES                          1\n",
              "UNITED KINGDOM                      1\n",
              "BRITISH WEST INDIES                 1\n",
              "GUAM                                1\n",
              "THAILAND                            1\n",
              "NORTH PACIFIC OCEAN                 1\n",
              "SCOTLAND                            1\n",
              "OKINAWA                             1\n",
              "ARGENTINA                           1\n",
              "SENEGAL                             1\n",
              "ISRAEL                              1\n",
              "MICRONESIA                          1\n",
              "SOUTH KOREA                         1\n",
              "RUSSIA                              1\n",
              "EL SALVADOR                         1\n",
              "COLUMBIA                            1\n",
              "Name: Country, dtype: int64"
            ]
          },
          "metadata": {},
          "execution_count": 17
        }
      ]
    },
    {
      "cell_type": "code",
      "metadata": {
        "colab": {
          "base_uri": "https://localhost:8080/",
          "height": 163
        },
        "id": "btp1OtRIQI31",
        "outputId": "22cbdae1-091d-4930-898d-3db83384a88e"
      },
      "source": [
        "dfC['Sex '].value_counts()"
      ],
      "execution_count": null,
      "outputs": [
        {
          "output_type": "error",
          "ename": "NameError",
          "evalue": "ignored",
          "traceback": [
            "\u001b[0;31m---------------------------------------------------------------------------\u001b[0m",
            "\u001b[0;31mNameError\u001b[0m                                 Traceback (most recent call last)",
            "\u001b[0;32m<ipython-input-10-e67d3edcf4eb>\u001b[0m in \u001b[0;36m<module>\u001b[0;34m()\u001b[0m\n\u001b[0;32m----> 1\u001b[0;31m \u001b[0mdfC\u001b[0m\u001b[0;34m[\u001b[0m\u001b[0;34m'Sex '\u001b[0m\u001b[0;34m]\u001b[0m\u001b[0;34m.\u001b[0m\u001b[0mvalue_counts\u001b[0m\u001b[0;34m(\u001b[0m\u001b[0;34m)\u001b[0m\u001b[0;34m\u001b[0m\u001b[0;34m\u001b[0m\u001b[0m\n\u001b[0m",
            "\u001b[0;31mNameError\u001b[0m: name 'dfC' is not defined"
          ]
        }
      ]
    }
  ]
}